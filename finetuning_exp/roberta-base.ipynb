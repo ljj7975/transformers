{
 "cells": [
  {
   "cell_type": "code",
   "execution_count": 44,
   "metadata": {},
   "outputs": [
    {
     "data": {
      "application/javascript": [
       "IPython.OutputArea.prototype._should_scroll = function(lines) {\n",
       "    return false;\n",
       "}\n"
      ],
      "text/plain": [
       "<IPython.core.display.Javascript object>"
      ]
     },
     "metadata": {},
     "output_type": "display_data"
    }
   ],
   "source": [
    "%%javascript\n",
    "IPython.OutputArea.prototype._should_scroll = function(lines) {\n",
    "    return false;\n",
    "}\n"
   ]
  },
  {
   "cell_type": "code",
   "execution_count": 45,
   "metadata": {},
   "outputs": [],
   "source": [
    "import numpy as np\n",
    "import matplotlib.pyplot as plt\n",
    "import matplotlib.image as mpimg\n",
    "from matplotlib import rcParams"
   ]
  },
  {
   "cell_type": "code",
   "execution_count": 46,
   "metadata": {},
   "outputs": [],
   "source": [
    "%matplotlib inline"
   ]
  },
  {
   "cell_type": "code",
   "execution_count": 47,
   "metadata": {},
   "outputs": [],
   "source": [
    "TEXT_COLOUR = {\n",
    "    'PURPLE':'\\033[95m',\n",
    "    'CYAN':'\\033[96m',\n",
    "    'DARKCYAN':'\\033[36m',\n",
    "    'BLUE':'\\033[94m',\n",
    "    'GREEN':'\\033[92m',\n",
    "    'YELLOW':'\\033[93m',\n",
    "    'RED':'\\033[91m',\n",
    "    'BOLD':'\\033[1m',\n",
    "    'UNDERLINE':'\\033[4m',\n",
    "    'END':'\\033[0m'\n",
    "}\n",
    "\n",
    "def print_bold(*msgs):\n",
    "    print(TEXT_COLOUR['BOLD'])\n",
    "    print(*msgs)\n",
    "    print(TEXT_COLOUR['END'])\n",
    "\n",
    "def print_green(*msgs):\n",
    "    print(TEXT_COLOUR['GREEN'])\n",
    "    print(*msgs)\n",
    "    print(TEXT_COLOUR['END'])\n",
    "\n",
    "def print_error(*msgs):\n",
    "    print(TEXT_COLOUR['RED'])\n",
    "    print(*msgs)\n",
    "    print(TEXT_COLOUR['END'])\n",
    "\n",
    "def wrap_green(msg):\n",
    "    return TEXT_COLOUR['GREEN'] + msg + TEXT_COLOUR['END']\n",
    "\n",
    "def wrap_red(msg):\n",
    "    return TEXT_COLOUR['RED'] + msg + TEXT_COLOUR['END']\n",
    "\n",
    "def up_down_str(val):\n",
    "    msg = str(val)\n",
    "    if val > 0:\n",
    "        msg = wrap_green(msg)\n",
    "    elif val < 0:\n",
    "        msg = wrap_red(msg)\n",
    "    return msg"
   ]
  },
  {
   "cell_type": "code",
   "execution_count": 48,
   "metadata": {},
   "outputs": [],
   "source": [
    "exp='roberta-base'\n",
    "num_layers = 12"
   ]
  },
  {
   "cell_type": "code",
   "execution_count": 62,
   "metadata": {},
   "outputs": [],
   "source": [
    "tasks = [\"CoLA\",\"SST-2\",\"MRPC\",\"STS-B\",\"QQP\",\"MNLI\", \"MNLI-MM\", \"QNLI\",\"RTE\"]\n",
    "tasks = [\"QQP\",\"MNLI\"]\n",
    "\n",
    "metrics = {\n",
    "    \"CoLA\":[\"mcc\"],\n",
    "    \"MNLI\":[\"acc\"],\n",
    "    \"MNLI-MM\":[\"acc\"],\n",
    "    \"MRPC\":[\"f1\"],\n",
    "    \"QNLI\":[\"acc\"],\n",
    "    \"QQP\":[\"f1\"],\n",
    "    \"RTE\":[\"acc\"],\n",
    "    \"SST-2\":[\"acc\"],\n",
    "    \"STS-B\":[\"spearmanr\"],\n",
    "    \"WNLI\":[\"acc\"] #temp\n",
    "}\n",
    "\n",
    "reported_in_paper = {\n",
    "    \"CoLA\":0.00,\n",
    "    \"MNLI\":0.00,\n",
    "    \"MNLI-MM\":0.0,\n",
    "    \"MRPC\":0.00,\n",
    "    \"QNLI\":0.00,\n",
    "    \"QQP\":0.00,\n",
    "    \"RTE\":0.00,\n",
    "    \"SST-2\":0.00,\n",
    "    \"STS-B\":0.00,\n",
    "    \"WNLI\":0.00\n",
    "}"
   ]
  },
  {
   "cell_type": "code",
   "execution_count": 63,
   "metadata": {},
   "outputs": [],
   "source": [
    "\n",
    "def get_average_val(lines):\n",
    "    reported = []\n",
    "    for line in lines:\n",
    "        print('\\t', line)\n",
    "        val = float(line.split('\\t')[1])\n",
    "        if val != 0:\n",
    "            reported.append(val)\n",
    "    out = 0\n",
    "    if len(reported) != 0:\n",
    "        reported.sort(reverse = True)\n",
    "        candidates = [reported[0]]\n",
    "        for j in range(1, len(reported)):\n",
    "            if reported[j] > 0.9 * reported[0]:\n",
    "                candidates.append(reported[j])\n",
    "        out = np.mean(candidates)\n",
    "        \n",
    "    return out\n"
   ]
  },
  {
   "cell_type": "code",
   "execution_count": 67,
   "metadata": {},
   "outputs": [
    {
     "name": "stdout",
     "output_type": "stream",
     "text": [
      "../exp_results/roberta-base/QQP/base-f1.txt\n",
      "fail\n",
      "../exp_results/roberta-base/QQP/no_layer-f1.txt\n",
      "fail\n",
      "11\n",
      "\t 5\t\n"
     ]
    },
    {
     "ename": "ValueError",
     "evalue": "could not convert string to float: ",
     "output_type": "error",
     "traceback": [
      "\u001b[0;31m---------------------------------------------------------------------------\u001b[0m",
      "\u001b[0;31mValueError\u001b[0m                                Traceback (most recent call last)",
      "\u001b[0;32m<ipython-input-67-b3de3a298f27>\u001b[0m in \u001b[0;36m<module>\u001b[0;34m\u001b[0m\n\u001b[1;32m     35\u001b[0m             \u001b[0mlines\u001b[0m \u001b[0;34m=\u001b[0m \u001b[0mf\u001b[0m\u001b[0;34m.\u001b[0m\u001b[0mread\u001b[0m\u001b[0;34m(\u001b[0m\u001b[0;34m)\u001b[0m\u001b[0;34m.\u001b[0m\u001b[0msplitlines\u001b[0m\u001b[0;34m(\u001b[0m\u001b[0;34m)\u001b[0m\u001b[0;34m\u001b[0m\u001b[0;34m\u001b[0m\u001b[0m\n\u001b[1;32m     36\u001b[0m             \u001b[0mprint\u001b[0m\u001b[0;34m(\u001b[0m\u001b[0mi\u001b[0m\u001b[0;34m)\u001b[0m\u001b[0;34m\u001b[0m\u001b[0;34m\u001b[0m\u001b[0m\n\u001b[0;32m---> 37\u001b[0;31m             \u001b[0mfine_tuning_metrics\u001b[0m\u001b[0;34m.\u001b[0m\u001b[0mappend\u001b[0m\u001b[0;34m(\u001b[0m\u001b[0mget_average_val\u001b[0m\u001b[0;34m(\u001b[0m\u001b[0mlines\u001b[0m\u001b[0;34m)\u001b[0m\u001b[0;34m)\u001b[0m\u001b[0;34m\u001b[0m\u001b[0;34m\u001b[0m\u001b[0m\n\u001b[0m\u001b[1;32m     38\u001b[0m \u001b[0;34m\u001b[0m\u001b[0m\n\u001b[1;32m     39\u001b[0m             \u001b[0mlog_file_prefix\u001b[0m \u001b[0;34m+=\u001b[0m\u001b[0;34m'_'\u001b[0m\u001b[0;34m\u001b[0m\u001b[0;34m\u001b[0m\u001b[0m\n",
      "\u001b[0;32m<ipython-input-63-b631ec975022>\u001b[0m in \u001b[0;36mget_average_val\u001b[0;34m(lines)\u001b[0m\n\u001b[1;32m      4\u001b[0m     \u001b[0;32mfor\u001b[0m \u001b[0mline\u001b[0m \u001b[0;32min\u001b[0m \u001b[0mlines\u001b[0m\u001b[0;34m:\u001b[0m\u001b[0;34m\u001b[0m\u001b[0;34m\u001b[0m\u001b[0m\n\u001b[1;32m      5\u001b[0m         \u001b[0mprint\u001b[0m\u001b[0;34m(\u001b[0m\u001b[0;34m'\\t'\u001b[0m\u001b[0;34m,\u001b[0m \u001b[0mline\u001b[0m\u001b[0;34m)\u001b[0m\u001b[0;34m\u001b[0m\u001b[0;34m\u001b[0m\u001b[0m\n\u001b[0;32m----> 6\u001b[0;31m         \u001b[0mval\u001b[0m \u001b[0;34m=\u001b[0m \u001b[0mfloat\u001b[0m\u001b[0;34m(\u001b[0m\u001b[0mline\u001b[0m\u001b[0;34m.\u001b[0m\u001b[0msplit\u001b[0m\u001b[0;34m(\u001b[0m\u001b[0;34m'\\t'\u001b[0m\u001b[0;34m)\u001b[0m\u001b[0;34m[\u001b[0m\u001b[0;36m1\u001b[0m\u001b[0;34m]\u001b[0m\u001b[0;34m)\u001b[0m\u001b[0;34m\u001b[0m\u001b[0;34m\u001b[0m\u001b[0m\n\u001b[0m\u001b[1;32m      7\u001b[0m         \u001b[0;32mif\u001b[0m \u001b[0mval\u001b[0m \u001b[0;34m!=\u001b[0m \u001b[0;36m0\u001b[0m\u001b[0;34m:\u001b[0m\u001b[0;34m\u001b[0m\u001b[0;34m\u001b[0m\u001b[0m\n\u001b[1;32m      8\u001b[0m             \u001b[0mreported\u001b[0m\u001b[0;34m.\u001b[0m\u001b[0mappend\u001b[0m\u001b[0;34m(\u001b[0m\u001b[0mval\u001b[0m\u001b[0;34m)\u001b[0m\u001b[0;34m\u001b[0m\u001b[0;34m\u001b[0m\u001b[0m\n",
      "\u001b[0;31mValueError\u001b[0m: could not convert string to float: "
     ]
    }
   ],
   "source": [
    "results = {}\n",
    "\n",
    "for task in tasks:\n",
    "    task_results = {}\n",
    "    task_metrics = metrics[task]\n",
    "    for metric in task_metrics:\n",
    "        \n",
    "        try:\n",
    "            # base metrics\n",
    "            print(f\"../exp_results/{exp}/{task}/base-{metric}.txt\")\n",
    "            f=open(f\"../exp_results/{exp}/{task}/base-{metric}.txt\", \"r\")\n",
    "            lines = f.read().splitlines()\n",
    "            task_results[f'base-{metric}'] = get_average_val(lines)\n",
    "        except:\n",
    "            print(\"fail\")\n",
    "            \n",
    "        # no layer metrics\n",
    "        try:\n",
    "            fine_tuning_metrics = []\n",
    "            print(f\"../exp_results/{exp}/{task}/no_layer-{metric}.txt\")\n",
    "            f=open(f\"../exp_results/{exp}/{task}/no_layer-{metric}.txt\", \"r\")\n",
    "\n",
    "            lines = f.read().splitlines()\n",
    "            fine_tuning_metrics.append(get_average_val(lines))\n",
    "        \n",
    "        except:\n",
    "            print(\"fail\")\n",
    "        \n",
    "        # fine-tuned metrics\n",
    "        \n",
    "        log_file_prefix=''\n",
    "        for i in reversed(range(int(num_layers/2), num_layers)):\n",
    "            log_file_prefix += str(i)\n",
    "            f=open(f\"../exp_results/{exp}/{task}/{log_file_prefix}-{metric}.txt\", \"r\")\n",
    "            lines = f.read().splitlines()\n",
    "            print(i)\n",
    "            fine_tuning_metrics.append(get_average_val(lines))\n",
    "            \n",
    "            log_file_prefix +='_'\n",
    "        \n",
    "        task_results[f'{metric}'] = list(reversed(fine_tuning_metrics))\n",
    "        \n",
    "    results[task] = task_results"
   ]
  },
  {
   "cell_type": "code",
   "execution_count": 68,
   "metadata": {},
   "outputs": [],
   "source": [
    "x_axis = []\n",
    "\n",
    "for i in range(int(num_layers/2), num_layers):\n",
    "    x_axis.append(str(i))\n",
    "\n",
    "x_axis.append(\"none\")"
   ]
  },
  {
   "cell_type": "code",
   "execution_count": 60,
   "metadata": {},
   "outputs": [],
   "source": [
    "def draw_graph(task, y_label, paper, base, reported):\n",
    "    plt.figure(figsize=(10,6))\n",
    "    plt.plot(x_axis, reported)\n",
    "    \n",
    "    plt.xlabel(\"layers\")\n",
    "    plt.ylabel(y_label)\n",
    "    \n",
    "    if paper == 0.0:    \n",
    "        gap = max(reported) - min(reported)\n",
    "        top = max(max(reported), base) + (gap*0.2)\n",
    "        bottom = min(min(reported), base) - (gap*0.2)\n",
    "    \n",
    "        plt.ylim(bottom, top)\n",
    "\n",
    "        plt.axhline(y=base, linestyle='--', c='green')\n",
    "    else:\n",
    "        gap = max(reported) - min(reported)\n",
    "        top = max(max(reported), base, paper) + (gap*0.2)\n",
    "        bottom = min(min(reported), base, paper) - (gap*0.2)\n",
    "    \n",
    "        plt.ylim(bottom, top)\n",
    "\n",
    "        plt.axhline(y=base, linestyle='--', c='green')\n",
    "        plt.axhline(y=paper, linestyle='--', c='red')\n",
    "    \n",
    "    plt.title(f'{exp}-{task} ({round(base,4)})')\n",
    "    plt.savefig(f'images/{exp}/{task}', format='png', bbox_inches='tight')\n",
    "    plt.show()"
   ]
  },
  {
   "cell_type": "code",
   "execution_count": 61,
   "metadata": {
    "scrolled": true
   },
   "outputs": [
    {
     "name": "stdout",
     "output_type": "stream",
     "text": [
      "\u001b[1m\n",
      "CoLA mcc\n",
      "\u001b[0m\n",
      "\tbase : 59.38\n",
      "\t50% : 58.45\n",
      "\tnone : 0\n",
      "\u001b[1m\n",
      "SST-2 acc\n",
      "\u001b[0m\n",
      "\tbase : 94.31\n",
      "\t50% : 94.0\n",
      "\tnone : 80.17\n",
      "\u001b[1m\n",
      "MRPC f1\n",
      "\u001b[0m\n",
      "\tbase : 92.34\n",
      "\t50% : 90.49\n",
      "\tnone : 81.22\n",
      "\u001b[1m\n",
      "STS-B spearmanr\n",
      "\u001b[0m\n",
      "\tbase : 90.62\n",
      "\t50% : 88.89\n",
      "\tnone : 20.0\n",
      "\u001b[1m\n",
      "QNLI acc\n",
      "\u001b[0m\n",
      "\tbase : 92.75\n",
      "\t50% : 91.71\n",
      "\tnone : 65.71\n",
      "\u001b[1m\n",
      "RTE acc\n",
      "\u001b[0m\n",
      "\tbase : 77.51\n",
      "\t50% : 75.45\n",
      "\tnone : 57.54\n"
     ]
    }
   ],
   "source": [
    "for task in tasks:\n",
    "    task_results = results[task]\n",
    "    task_metrics = metrics[task]\n",
    "    for metric in task_metrics:\n",
    "        reported = task_results[metric]\n",
    "        base = task_results[f'base-{metric}']\n",
    "        print_bold(task, metric)\n",
    "        print(f\"\\tbase : {round(base * 100, 2)}\")\n",
    "        print(f\"\\t50% : {round(task_results[metric][0] * 100, 2)}\")\n",
    "        print(f\"\\tnone : {round(task_results[metric][-1] * 100, 2)}\")\n",
    "#         draw_graph(task, metric, reported_in_paper[task], base, reported)"
   ]
  },
  {
   "cell_type": "code",
   "execution_count": null,
   "metadata": {},
   "outputs": [],
   "source": []
  }
 ],
 "metadata": {
  "kernelspec": {
   "display_name": "Python 3",
   "language": "python",
   "name": "python3"
  },
  "language_info": {
   "codemirror_mode": {
    "name": "ipython",
    "version": 3
   },
   "file_extension": ".py",
   "mimetype": "text/x-python",
   "name": "python",
   "nbconvert_exporter": "python",
   "pygments_lexer": "ipython3",
   "version": "3.6.8"
  }
 },
 "nbformat": 4,
 "nbformat_minor": 2
}
