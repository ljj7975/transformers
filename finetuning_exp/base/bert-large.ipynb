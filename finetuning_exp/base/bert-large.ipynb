{
 "cells": [
  {
   "cell_type": "code",
   "execution_count": 14,
   "metadata": {},
   "outputs": [
    {
     "data": {
      "application/javascript": [
       "IPython.OutputArea.prototype._should_scroll = function(lines) {\n",
       "    return false;\n",
       "}\n"
      ],
      "text/plain": [
       "<IPython.core.display.Javascript object>"
      ]
     },
     "metadata": {},
     "output_type": "display_data"
    }
   ],
   "source": [
    "%%javascript\n",
    "IPython.OutputArea.prototype._should_scroll = function(lines) {\n",
    "    return false;\n",
    "}\n"
   ]
  },
  {
   "cell_type": "code",
   "execution_count": 15,
   "metadata": {},
   "outputs": [],
   "source": [
    "import numpy as np\n",
    "import matplotlib.pyplot as plt\n",
    "import matplotlib.image as mpimg\n",
    "from matplotlib import rcParams"
   ]
  },
  {
   "cell_type": "code",
   "execution_count": 16,
   "metadata": {},
   "outputs": [],
   "source": [
    "%matplotlib inline"
   ]
  },
  {
   "cell_type": "code",
   "execution_count": 17,
   "metadata": {},
   "outputs": [],
   "source": [
    "TEXT_COLOUR = {\n",
    "    'PURPLE':'\\033[95m',\n",
    "    'CYAN':'\\033[96m',\n",
    "    'DARKCYAN':'\\033[36m',\n",
    "    'BLUE':'\\033[94m',\n",
    "    'GREEN':'\\033[92m',\n",
    "    'YELLOW':'\\033[93m',\n",
    "    'RED':'\\033[91m',\n",
    "    'BOLD':'\\033[1m',\n",
    "    'UNDERLINE':'\\033[4m',\n",
    "    'END':'\\033[0m'\n",
    "}\n",
    "\n",
    "def print_bold(*msgs):\n",
    "    print(TEXT_COLOUR['BOLD'])\n",
    "    print(*msgs)\n",
    "    print(TEXT_COLOUR['END'])\n",
    "\n",
    "def print_green(*msgs):\n",
    "    print(TEXT_COLOUR['GREEN'])\n",
    "    print(*msgs)\n",
    "    print(TEXT_COLOUR['END'])\n",
    "\n",
    "def print_error(*msgs):\n",
    "    print(TEXT_COLOUR['RED'])\n",
    "    print(*msgs)\n",
    "    print(TEXT_COLOUR['END'])\n",
    "\n",
    "def wrap_green(msg):\n",
    "    return TEXT_COLOUR['GREEN'] + msg + TEXT_COLOUR['END']\n",
    "\n",
    "def wrap_red(msg):\n",
    "    return TEXT_COLOUR['RED'] + msg + TEXT_COLOUR['END']\n",
    "\n",
    "def up_down_str(val):\n",
    "    msg = str(val)\n",
    "    if val > 0:\n",
    "        msg = wrap_green(msg)\n",
    "    elif val < 0:\n",
    "        msg = wrap_red(msg)\n",
    "    return msg"
   ]
  },
  {
   "cell_type": "code",
   "execution_count": 18,
   "metadata": {},
   "outputs": [],
   "source": [
    "exp='bert-large'\n",
    "num_layers = 24"
   ]
  },
  {
   "cell_type": "code",
   "execution_count": 19,
   "metadata": {},
   "outputs": [],
   "source": [
    "tasks = [\"CoLA\",\"SST-2\",\"MRPC\",\"STS-B\",\"QQP\",\"MNLI\", \"MNLI-MM\", \"QNLI\", \"RTE\"]\n",
    "tasks = [\"CoLA\",\"SST-2\",\"MRPC\",\"STS-B\",\"RTE\"]\n",
    "\n",
    "metrics = {\n",
    "    \"CoLA\":[\"mcc\"],\n",
    "    \"MNLI\":[\"acc\"],\n",
    "    \"MNLI-MM\":[\"acc\"],\n",
    "    \"MRPC\":[\"f1\"],\n",
    "    \"QNLI\":[\"acc\"],\n",
    "    \"QQP\":[\"f1\"],\n",
    "    \"RTE\":[\"acc\"],\n",
    "    \"SST-2\":[\"acc\"],\n",
    "    \"STS-B\":[\"spearmanr\"],\n",
    "    \"WNLI\":[\"acc\"] #temp\n",
    "}\n",
    "\n",
    "reported_in_paper = {\n",
    "    \"CoLA\":0.00,\n",
    "    \"MNLI\":0.00,\n",
    "    \"MNLI-MM\":0.0,\n",
    "    \"MRPC\":0.00,\n",
    "    \"QNLI\":0.00,\n",
    "    \"QQP\":0.00,\n",
    "    \"RTE\":0.00,\n",
    "    \"SST-2\":0.00,\n",
    "    \"STS-B\":0.00,\n",
    "    \"WNLI\":0.00\n",
    "}"
   ]
  },
  {
   "cell_type": "code",
   "execution_count": 20,
   "metadata": {},
   "outputs": [],
   "source": [
    "\n",
    "def get_average_val(lines):\n",
    "    reported = []\n",
    "    for line in lines:\n",
    "#         print('\\t', line)\n",
    "        val = float(line.split('\\t')[1])\n",
    "        if val != 0:\n",
    "            reported.append(val)\n",
    "    out = 0\n",
    "    if len(reported) != 0:\n",
    "        reported.sort(reverse = True)\n",
    "        candidates = [reported[0]]\n",
    "        for j in range(1, len(reported)):\n",
    "            if reported[j] > 0.9 * reported[0]:\n",
    "                candidates.append(reported[j])\n",
    "        out = np.mean(candidates)\n",
    "        \n",
    "    return out\n"
   ]
  },
  {
   "cell_type": "code",
   "execution_count": 21,
   "metadata": {},
   "outputs": [
    {
     "name": "stdout",
     "output_type": "stream",
     "text": [
      "../../exp_results/bert-large/CoLA/base-mcc.txt\n",
      "../../exp_results/bert-large/SST-2/base-acc.txt\n",
      "../../exp_results/bert-large/MRPC/base-f1.txt\n",
      "../../exp_results/bert-large/STS-B/base-spearmanr.txt\n",
      "../../exp_results/bert-large/RTE/base-acc.txt\n"
     ]
    }
   ],
   "source": [
    "results = {}\n",
    "\n",
    "for task in tasks:\n",
    "    task_results = {}\n",
    "    task_metrics = metrics[task]\n",
    "    for metric in task_metrics:\n",
    "        \n",
    "        # base metrics\n",
    "        print(f\"../../exp_results/{exp}/{task}/base-{metric}.txt\")\n",
    "        f=open(f\"../../exp_results/{exp}/{task}/base-{metric}.txt\", \"r\")\n",
    "        lines = f.read().splitlines()\n",
    "        task_results[f'base-{metric}'] = get_average_val(lines)\n",
    "        \n",
    "        # no layer metrics\n",
    "        \n",
    "        fine_tuning_metrics = []\n",
    "        f=open(f\"../../exp_results/{exp}/{task}/no_layer-{metric}.txt\", \"r\")\n",
    "\n",
    "        lines = f.read().splitlines()\n",
    "        fine_tuning_metrics.append(get_average_val(lines))\n",
    "        \n",
    "        # fine-tuned metrics\n",
    "        \n",
    "        log_file_prefix=''\n",
    "        for i in reversed(range(int(num_layers/2), num_layers)):\n",
    "            log_file_prefix += str(i)\n",
    "            f=open(f\"../../exp_results/{exp}/{task}/{log_file_prefix}-{metric}.txt\", \"r\")\n",
    "            lines = f.read().splitlines()\n",
    "            fine_tuning_metrics.append(get_average_val(lines))\n",
    "            \n",
    "            log_file_prefix +='_'\n",
    "        \n",
    "        task_results[f'{metric}'] = list(reversed(fine_tuning_metrics))\n",
    "        \n",
    "    results[task] = task_results"
   ]
  },
  {
   "cell_type": "code",
   "execution_count": 22,
   "metadata": {},
   "outputs": [],
   "source": [
    "x_axis = []\n",
    "\n",
    "for i in range(int(num_layers/2), num_layers):\n",
    "    x_axis.append(str(i))\n",
    "\n",
    "x_axis.append(\"none\")"
   ]
  },
  {
   "cell_type": "code",
   "execution_count": 23,
   "metadata": {},
   "outputs": [],
   "source": [
    "def draw_graph(task, y_label, paper, base, reported):\n",
    "    plt.figure(figsize=(10,6))\n",
    "    plt.plot(x_axis, reported)\n",
    "    \n",
    "    plt.xlabel(\"layers\")\n",
    "    plt.ylabel(y_label)\n",
    "    \n",
    "    if paper == 0.0:    \n",
    "        gap = max(reported) - min(reported)\n",
    "        top = max(max(reported), base) + (gap*0.2)\n",
    "        bottom = min(min(reported), base) - (gap*0.2)\n",
    "    \n",
    "        plt.ylim(bottom, top)\n",
    "\n",
    "        plt.axhline(y=base, linestyle='--', c='green')\n",
    "    else:\n",
    "        gap = max(reported) - min(reported)\n",
    "        top = max(max(reported), base, paper) + (gap*0.2)\n",
    "        bottom = min(min(reported), base, paper) - (gap*0.2)\n",
    "    \n",
    "        plt.ylim(bottom, top)\n",
    "\n",
    "        plt.axhline(y=base, linestyle='--', c='green')\n",
    "        plt.axhline(y=paper, linestyle='--', c='red')\n",
    "    \n",
    "    plt.title(f'{exp}-{task} ({round(base,4)})')\n",
    "    plt.savefig(f'images/{exp}/{task}', format='png', bbox_inches='tight')\n",
    "    plt.show()"
   ]
  },
  {
   "cell_type": "code",
   "execution_count": 24,
   "metadata": {},
   "outputs": [
    {
     "name": "stdout",
     "output_type": "stream",
     "text": [
      "\u001b[1m\n",
      "CoLA mcc : b - 61.86 h - 59.12 n - 24.91\n",
      "\u001b[0m\n",
      "\u001b[1m\n",
      "SST-2 acc : b - 93.41 h - 93.33 n - 87.77\n",
      "\u001b[0m\n",
      "\u001b[1m\n",
      "MRPC f1 : b - 90.34 h - 88.9 n - 81.33\n",
      "\u001b[0m\n",
      "\u001b[1m\n",
      "STS-B spearmanr : b - 89.77 h - 89.03 n - 71.77\n",
      "\u001b[0m\n",
      "\u001b[1m\n",
      "RTE acc : b - 72.27 h - 71.6 n - 56.55\n",
      "\u001b[0m\n"
     ]
    }
   ],
   "source": [
    "for task in tasks:\n",
    "    task_results = results[task]\n",
    "    task_metrics = metrics[task]\n",
    "    for metric in task_metrics:\n",
    "        reported = task_results[metric]\n",
    "        base = task_results[f'base-{metric}']\n",
    "        print_bold(task, metric, ': b -', round(base * 100, 2), 'h -',round(task_results[metric][0] * 100, 2), 'n -', round(task_results[metric][-1] * 100, 2))"
   ]
  },
  {
   "cell_type": "code",
   "execution_count": 25,
   "metadata": {},
   "outputs": [
    {
     "name": "stdout",
     "output_type": "stream",
     "text": [
      "['none', '23', '22', '21', '20', '19', '18', '17', '16', '15', '14', '13', '12']\n",
      "[0, 0, 1, 6]\n",
      "layer_90  6 layer: 18 75.0 %\n",
      "[1, 8, 2, 10]\n",
      "layer_95  10 layer: 14 58.33 %\n",
      "\u001b[1m\n",
      "CoLA 0.6186396426035572\n",
      "\u001b[0m\n",
      "\t90 0.5156069164107305 83.35\n",
      "\t95 0.579615614607572 93.69\n",
      "\u001b[1m\n",
      "SST-2 0.9340596330275229\n",
      "\u001b[0m\n",
      "\t90 0.9267201834862385 99.21\n",
      "\t95 0.9345183486238533 100.05\n",
      "\u001b[1m\n",
      "MRPC 0.9034378599451618\n",
      "\u001b[0m\n",
      "\t90 0.8542627648090659 94.56\n",
      "\t95 0.8748903619381361 96.84\n",
      "\u001b[1m\n",
      "STS-B 0.8977256044874211\n",
      "\u001b[0m\n",
      "\t90 0.8799874441290274 98.02\n",
      "\t95 0.8901321239966713 99.15\n",
      "\u001b[1m\n",
      "RTE 0.7227436823104694\n",
      "\u001b[0m\n",
      "\t90 0.6505415162454874 90.01\n",
      "\t95 0.6915363016446049 95.68\n",
      "\u001b[1m\n",
      "4 85.5475 91.075 5.53\n",
      "\u001b[0m\n"
     ]
    }
   ],
   "source": [
    "import copy \n",
    "\n",
    "layer_90 = []\n",
    "layer_95 = []\n",
    "\n",
    "threshold_90 = 0.9\n",
    "threshold_95 = 0.95\n",
    "x_axis.reverse()\n",
    "\n",
    "for task in tasks:\n",
    "#     print_bold(task)\n",
    "    task_results = results[task]\n",
    "    task_metrics = metrics[task]\n",
    "    for metric in task_metrics:\n",
    "        base = task_results[f'base-{metric}']\n",
    "        reported = copy.deepcopy(task_results[metric])\n",
    "        reported.reverse()\n",
    "        \n",
    "        flag_90 = True\n",
    "        flag_95 = True\n",
    "\n",
    "        if task != \"CoLA\":\n",
    "            for ind, val in enumerate(reported):\n",
    "\n",
    "                if val/base > threshold_90 and flag_90:\n",
    "                    flag_90 = False\n",
    "                    layer_90.append(ind)\n",
    "\n",
    "                if val/base > threshold_95 and flag_95:\n",
    "                    flag_95 = False\n",
    "                    layer_95.append(ind)\n",
    "\n",
    "            if flag_90:\n",
    "                print(task, \"Fails to achieve 90% threshold\", reported[-1]/base)\n",
    "                layer_90.append(len(reported)-1)\n",
    "\n",
    "            if flag_95:\n",
    "                print(task, \"Fails to achieve 95% threshold\", reported[-1]/base)\n",
    "                layer_95.append(len(reported)-1)\n",
    "\n",
    "\n",
    "            \n",
    "print(x_axis)\n",
    "            \n",
    "            \n",
    "print(layer_90)\n",
    "min_layer_ind_90 = max(layer_90)\n",
    "print(\"layer_90 \", min_layer_ind_90, 'layer:', x_axis[min_layer_ind_90], round((1-(min_layer_ind_90/num_layers)) * 100, 2), '%')\n",
    "\n",
    "print(layer_95)\n",
    "min_layer_ind_95 = max(layer_95)\n",
    "print(\"layer_95 \", min_layer_ind_95, 'layer:', x_axis[min_layer_ind_95], round((1-(min_layer_ind_95/num_layers)) * 100, 2), '%')\n",
    "\n",
    "\n",
    "firsts = []\n",
    "seconds = []\n",
    "    \n",
    "for task in tasks:\n",
    "    task_results = results[task]\n",
    "    task_metrics = metrics[task]\n",
    "    for metric in task_metrics:\n",
    "        base = task_results[f'base-{metric}']\n",
    "        reported = copy.deepcopy(task_results[metric])\n",
    "        reported.reverse()\n",
    "        \n",
    "        if task != \"CoLA\":\n",
    "            first = round(100*reported[0]/base, 2)\n",
    "            second = round(100*reported[1]/base, 2)\n",
    "            firsts.append(first)\n",
    "            seconds.append(second)\n",
    "            \n",
    "        print_bold(task, base)\n",
    "        print('\\t90', reported[min_layer_ind_90], round(reported[min_layer_ind_90]/base * 100, 2))\n",
    "        print('\\t95', reported[min_layer_ind_95], round(reported[min_layer_ind_95]/base * 100, 2))\n",
    "        \n",
    "print_bold(len(firsts), np.mean(firsts), np.mean(seconds), round(np.mean(seconds) - np.mean(firsts),2))"
   ]
  },
  {
   "cell_type": "code",
   "execution_count": 26,
   "metadata": {},
   "outputs": [
    {
     "name": "stdout",
     "output_type": "stream",
     "text": [
      "0.7176547930848505\n",
      "0.852814382440172\n"
     ]
    }
   ],
   "source": [
    "for task in [\"STS-B\"]:\n",
    "    task_results = results[task]\n",
    "    task_metrics = metrics[task]\n",
    "    for metric in task_metrics:\n",
    "        \n",
    "        print(task_results[metric][-1])\n",
    "        print(task_results[metric][-2])"
   ]
  },
  {
   "cell_type": "code",
   "execution_count": null,
   "metadata": {},
   "outputs": [],
   "source": []
  }
 ],
 "metadata": {
  "kernelspec": {
   "display_name": "Python 3",
   "language": "python",
   "name": "python3"
  },
  "language_info": {
   "codemirror_mode": {
    "name": "ipython",
    "version": 3
   },
   "file_extension": ".py",
   "mimetype": "text/x-python",
   "name": "python",
   "nbconvert_exporter": "python",
   "pygments_lexer": "ipython3",
   "version": "3.7.4"
  }
 },
 "nbformat": 4,
 "nbformat_minor": 2
}
