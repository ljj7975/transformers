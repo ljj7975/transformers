{
 "cells": [
  {
   "cell_type": "code",
   "execution_count": 1,
   "metadata": {},
   "outputs": [
    {
     "data": {
      "application/javascript": [
       "IPython.OutputArea.prototype._should_scroll = function(lines) {\n",
       "    return false;\n",
       "}\n"
      ],
      "text/plain": [
       "<IPython.core.display.Javascript object>"
      ]
     },
     "metadata": {},
     "output_type": "display_data"
    }
   ],
   "source": [
    "%%javascript\n",
    "IPython.OutputArea.prototype._should_scroll = function(lines) {\n",
    "    return false;\n",
    "}\n"
   ]
  },
  {
   "cell_type": "code",
   "execution_count": 22,
   "metadata": {},
   "outputs": [],
   "source": [
    "import numpy as np\n",
    "import matplotlib.pyplot as plt\n",
    "import matplotlib.image as mpimg\n",
    "from matplotlib import rcParams\n",
    "from pprint import pprint"
   ]
  },
  {
   "cell_type": "code",
   "execution_count": 3,
   "metadata": {},
   "outputs": [],
   "source": [
    "%matplotlib inline"
   ]
  },
  {
   "cell_type": "code",
   "execution_count": 4,
   "metadata": {},
   "outputs": [],
   "source": [
    "TEXT_COLOUR = {\n",
    "    'PURPLE':'\\033[95m',\n",
    "    'CYAN':'\\033[96m',\n",
    "    'DARKCYAN':'\\033[36m',\n",
    "    'BLUE':'\\033[94m',\n",
    "    'GREEN':'\\033[92m',\n",
    "    'YELLOW':'\\033[93m',\n",
    "    'RED':'\\033[91m',\n",
    "    'BOLD':'\\033[1m',\n",
    "    'UNDERLINE':'\\033[4m',\n",
    "    'END':'\\033[0m'\n",
    "}\n",
    "\n",
    "def print_bold(*msgs):\n",
    "    print(TEXT_COLOUR['BOLD'])\n",
    "    print(*msgs)\n",
    "    print(TEXT_COLOUR['END'])\n",
    "\n",
    "def print_green(*msgs):\n",
    "    print(TEXT_COLOUR['GREEN'])\n",
    "    print(*msgs)\n",
    "    print(TEXT_COLOUR['END'])\n",
    "\n",
    "def print_error(*msgs):\n",
    "    print(TEXT_COLOUR['RED'])\n",
    "    print(*msgs)\n",
    "    print(TEXT_COLOUR['END'])\n",
    "\n",
    "def wrap_green(msg):\n",
    "    return TEXT_COLOUR['GREEN'] + msg + TEXT_COLOUR['END']\n",
    "\n",
    "def wrap_red(msg):\n",
    "    return TEXT_COLOUR['RED'] + msg + TEXT_COLOUR['END']\n",
    "\n",
    "def up_down_str(val):\n",
    "    msg = str(val)\n",
    "    if val > 0:\n",
    "        msg = wrap_green(msg)\n",
    "    elif val < 0:\n",
    "        msg = wrap_red(msg)\n",
    "    return msg"
   ]
  },
  {
   "cell_type": "code",
   "execution_count": null,
   "metadata": {},
   "outputs": [],
   "source": []
  },
  {
   "cell_type": "code",
   "execution_count": 6,
   "metadata": {},
   "outputs": [
    {
     "name": "stdout",
     "output_type": "stream",
     "text": [
      "['mcc']\n",
      "['acc']\n",
      "['acc']\n",
      "['acc', 'f1', 'acc_and_f1']\n",
      "['acc']\n",
      "['acc', 'f1', 'acc_and_f1']\n",
      "['acc']\n",
      "['acc']\n",
      "['pearson', 'spearmanr', 'corr']\n",
      "['acc']\n"
     ]
    }
   ],
   "source": [
    "tasks = [\"CoLA\", \"MNLI\", \"MNLI-MM\", \"MRPC\", \"QNLI\", \"QQP\", \"RTE\", \"SST-2\", \"STS-B\", \"WNLI\"]\n",
    "\n",
    "metrics = {\n",
    "    \"CoLA\":[\"mcc\"],\n",
    "    \"MNLI\":[\"acc\"],\n",
    "    \"MNLI-MM\":[\"acc\"],\n",
    "    \"MRPC\":[\"acc\", \"f1\", \"acc_and_f1\"],\n",
    "    \"QNLI\":[\"acc\"],\n",
    "    \"QQP\":[\"acc\", \"f1\", \"acc_and_f1\"],\n",
    "    \"RTE\":[\"acc\"],\n",
    "    \"SST-2\":[\"acc\"],\n",
    "    \"STS-B\":[\"pearson\", \"spearmanr\", \"corr\"],\n",
    "    \"WNLI\":[\"acc\"]\n",
    "}\n",
    "\n",
    "for task in tasks:\n",
    "    print(metrics[task])"
   ]
  },
  {
   "cell_type": "code",
   "execution_count": 5,
   "metadata": {},
   "outputs": [],
   "source": []
  },
  {
   "cell_type": "code",
   "execution_count": 25,
   "metadata": {},
   "outputs": [],
   "source": [
    "def find_best(exp):\n",
    "\n",
    "    results = {}\n",
    "\n",
    "    for task in tasks:\n",
    "        task_results = {}\n",
    "        task_metrics = metrics[task]\n",
    "        for metric in task_metrics:\n",
    "            per_lr = []\n",
    "            for i in range(1,6):\n",
    "                # base metrics\n",
    "\n",
    "                f=open(f\"../logs/baseline/{exp}/{task}/{i}e-5_{metric}.txt\", \"r\")\n",
    "                lines = f.read().splitlines()\n",
    "                reported = []\n",
    "                for line in lines:\n",
    "                    val = float(line.split('\\t')[1])\n",
    "                    if val != 0:\n",
    "                        reported.append(val)\n",
    "                if len(reported) != 0:\n",
    "                    per_lr.append(np.mean(reported))\n",
    "\n",
    "            task_results[metric] = str(np.argmax(per_lr) + 1) + f\" - {np.max(per_lr)}\"\n",
    "        results[task] = task_results\n",
    "        \n",
    "    return results"
   ]
  },
  {
   "cell_type": "code",
   "execution_count": 26,
   "metadata": {},
   "outputs": [
    {
     "name": "stdout",
     "output_type": "stream",
     "text": [
      "{'CoLA': {'mcc': '3 - 0.5746376040603758'},\n",
      " 'MNLI': {'acc': '2 - 0.8426388181355069'},\n",
      " 'MNLI-MM': {'acc': '2 - 0.8495219690805533'},\n",
      " 'MRPC': {'acc': '3 - 0.8762254901960784',\n",
      "          'acc_and_f1': '3 - 0.8945497362052588',\n",
      "          'f1': '3 - 0.9128739822144393'},\n",
      " 'QNLI': {'acc': '2 - 0.9127768625297455'},\n",
      " 'QQP': {'acc': '2 - 0.9086940390798912',\n",
      "         'acc_and_f1': '2 - 0.8928583307670738',\n",
      "         'f1': '2 - 0.8770226224542563'},\n",
      " 'RTE': {'acc': '3 - 0.6750902527075813'},\n",
      " 'SST-2': {'acc': '2 - 0.9288990825688074'},\n",
      " 'STS-B': {'corr': '5 - 0.8922247379755471',\n",
      "           'pearson': '5 - 0.8947432417497347',\n",
      "           'spearmanr': '5 - 0.8897062342013595'},\n",
      " 'WNLI': {'acc': '4 - 0.4366197183098592'}}\n"
     ]
    }
   ],
   "source": [
    "exp='bert-base'\n",
    "\n",
    "pprint(find_best(exp))\n",
    "\n",
    "reported_in_paper = {\n",
    "    \"CoLA\":0.521,\n",
    "    \"MNLI\":0.846,\n",
    "    \"MNLI-MM\":0.834,\n",
    "    \"MRPC\":0.889,\n",
    "    \"QNLI\":0.905,\n",
    "    \"QQP\":0.712,\n",
    "    \"RTE\":0.664,\n",
    "    \"SST-2\":0.935,\n",
    "    \"STS-B\":0.858,\n",
    "    \"WNLI\":0.651 #temp\n",
    "}"
   ]
  },
  {
   "cell_type": "code",
   "execution_count": 27,
   "metadata": {},
   "outputs": [
    {
     "name": "stdout",
     "output_type": "stream",
     "text": [
      "{'CoLA': {'mcc': '3 - 0.6172866282938361'},\n",
      " 'MNLI': {'acc': '1 - 0.8643402954661232'},\n",
      " 'MNLI-MM': {'acc': '2 - 0.8646257119609438'},\n",
      " 'MRPC': {'acc': '2 - 0.8602941176470589',\n",
      "          'acc_and_f1': '2 - 0.8821671248600621',\n",
      "          'f1': '2 - 0.9040401320730653'},\n",
      " 'QNLI': {'acc': '1 - 0.9206479956068094'},\n",
      " 'QQP': {'acc': '1 - 0.9122062824635172',\n",
      "         'acc_and_f1': '1 - 0.897048599018555',\n",
      "         'f1': '1 - 0.8818909155735929'},\n",
      " 'RTE': {'acc': '3 - 0.7111913357400722'},\n",
      " 'SST-2': {'acc': '1 - 0.9340596330275229'},\n",
      " 'STS-B': {'corr': '2 - 0.8996243628641183',\n",
      "           'pearson': '2 - 0.9009686537670677',\n",
      "           'spearmanr': '2 - 0.898280071961169'},\n",
      " 'WNLI': {'acc': '3 - 0.5'}}\n"
     ]
    }
   ],
   "source": [
    "exp='bert-large'\n",
    "\n",
    "pprint(find_best(exp))\n",
    "\n",
    "reported_in_paper = {\n",
    "    \"CoLA\":0.521,\n",
    "    \"MNLI\":0.846,\n",
    "    \"MNLI-MM\":0.834,\n",
    "    \"MRPC\":0.889,\n",
    "    \"QNLI\":0.905,\n",
    "    \"QQP\":0.712,\n",
    "    \"RTE\":0.664,\n",
    "    \"SST-2\":0.935,\n",
    "    \"STS-B\":0.858,\n",
    "    \"WNLI\":0.651 #temp\n",
    "}"
   ]
  },
  {
   "cell_type": "code",
   "execution_count": 28,
   "metadata": {},
   "outputs": [
    {
     "name": "stdout",
     "output_type": "stream",
     "text": [
      "{'CoLA': {'mcc': '3 - 0.6161067903576496'},\n",
      " 'MNLI': {'acc': '1 - 0.8742740703005604'},\n",
      " 'MNLI-MM': {'acc': '1 - 0.871033360455655'},\n",
      " 'MRPC': {'acc': '3 - 0.8946078431372549',\n",
      "          'acc_and_f1': '3 - 0.9091156444815938',\n",
      "          'f1': '3 - 0.9236234458259325'},\n",
      " 'QNLI': {'acc': '2 - 0.9256818597840014'},\n",
      " 'QQP': {'acc': '1 - 0.9167202572347267',\n",
      "         'acc_and_f1': '1 - 0.9027605381421164',\n",
      "         'f1': '1 - 0.8888008190495063'},\n",
      " 'RTE': {'acc': '1 - 0.7689530685920578'},\n",
      " 'SST-2': {'acc': '1 - 0.9438073394495413'},\n",
      " 'STS-B': {'corr': '3 - 0.9065130409589317',\n",
      "           'pearson': '3 - 0.9077812569357945',\n",
      "           'spearmanr': '4 - 0.9055167415395866'},\n",
      " 'WNLI': {'acc': '5 - 0.5633802816901409'}}\n"
     ]
    }
   ],
   "source": [
    "exp='roberta-base'\n",
    "\n",
    "pprint(find_best(exp))\n",
    "\n",
    "reported_in_paper = {\n",
    "    \"CoLA\":0.521,\n",
    "    \"MNLI\":0.846,\n",
    "    \"MNLI-MM\":0.834,\n",
    "    \"MRPC\":0.889,\n",
    "    \"QNLI\":0.905,\n",
    "    \"QQP\":0.712,\n",
    "    \"RTE\":0.664,\n",
    "    \"SST-2\":0.935,\n",
    "    \"STS-B\":0.858,\n",
    "    \"WNLI\":0.651 #temp\n",
    "}"
   ]
  },
  {
   "cell_type": "code",
   "execution_count": 29,
   "metadata": {},
   "outputs": [
    {
     "name": "stdout",
     "output_type": "stream",
     "text": [
      "{'CoLA': {'mcc': '1 - 0.6651627094568674'},\n",
      " 'MNLI': {'acc': '1 - 0.8992358634742741'},\n",
      " 'MNLI-MM': {'acc': '1 - 0.8962571196094385'},\n",
      " 'MRPC': {'acc': '1 - 0.8946078431372549',\n",
      "          'acc_and_f1': '1 - 0.9093850503164229',\n",
      "          'f1': '1 - 0.9241622574955909'},\n",
      " 'QNLI': {'acc': '1 - 0.9461834157056562'},\n",
      " 'QQP': {'acc': '1 - 0.9190699975265891',\n",
      "         'acc_and_f1': '1 - 0.9051611620177482',\n",
      "         'f1': '1 - 0.8912523265089072'},\n",
      " 'RTE': {'acc': '1 - 0.776173285198556'},\n",
      " 'SST-2': {'acc': '1 - 0.9518348623853211'},\n",
      " 'STS-B': {'corr': '1 - 0.9190949589877095',\n",
      "           'pearson': '1 - 0.9194788577334798',\n",
      "           'spearmanr': '1 - 0.9187110602419393'},\n",
      " 'WNLI': {'acc': '2 - 0.5633802816901409'}}\n"
     ]
    }
   ],
   "source": [
    "exp='roberta-large'\n",
    "\n",
    "pprint(find_best(exp))\n",
    "\n",
    "reported_in_paper = {\n",
    "    \"CoLA\":0.521,\n",
    "    \"MNLI\":0.846,\n",
    "    \"MNLI-MM\":0.834,\n",
    "    \"MRPC\":0.889,\n",
    "    \"QNLI\":0.905,\n",
    "    \"QQP\":0.712,\n",
    "    \"RTE\":0.664,\n",
    "    \"SST-2\":0.935,\n",
    "    \"STS-B\":0.858,\n",
    "    \"WNLI\":0.651 #temp\n",
    "}"
   ]
  },
  {
   "cell_type": "code",
   "execution_count": null,
   "metadata": {},
   "outputs": [],
   "source": []
  }
 ],
 "metadata": {
  "kernelspec": {
   "display_name": "Python 3",
   "language": "python",
   "name": "python3"
  },
  "language_info": {
   "codemirror_mode": {
    "name": "ipython",
    "version": 3
   },
   "file_extension": ".py",
   "mimetype": "text/x-python",
   "name": "python",
   "nbconvert_exporter": "python",
   "pygments_lexer": "ipython3",
   "version": "3.7.4"
  }
 },
 "nbformat": 4,
 "nbformat_minor": 2
}
